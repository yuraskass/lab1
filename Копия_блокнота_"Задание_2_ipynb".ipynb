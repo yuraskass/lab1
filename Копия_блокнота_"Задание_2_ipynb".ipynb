{
  "nbformat": 4,
  "nbformat_minor": 0,
  "metadata": {
    "colab": {
      "provenance": [],
      "include_colab_link": true
    },
    "kernelspec": {
      "name": "python3",
      "display_name": "Python 3"
    },
    "language_info": {
      "name": "python"
    }
  },
  "cells": [
    {
      "cell_type": "markdown",
      "metadata": {
        "id": "view-in-github",
        "colab_type": "text"
      },
      "source": [
        "<a href=\"https://colab.research.google.com/github/yuraskass/lab1/blob/main/%D0%9A%D0%BE%D0%BF%D0%B8%D1%8F_%D0%B1%D0%BB%D0%BE%D0%BA%D0%BD%D0%BE%D1%82%D0%B0_%22%D0%97%D0%B0%D0%B4%D0%B0%D0%BD%D0%B8%D0%B5_2_ipynb%22.ipynb\" target=\"_parent\"><img src=\"https://colab.research.google.com/assets/colab-badge.svg\" alt=\"Open In Colab\"/></a>"
      ]
    },
    {
      "cell_type": "markdown",
      "source": [
        "#Задание по практике 2"
      ],
      "metadata": {
        "id": "_dGfjiUjUNab"
      }
    },
    {
      "cell_type": "code",
      "source": [
        "!pip install pandas\n",
        "!pip install seaborn"
      ],
      "metadata": {
        "id": "wXXP-hXKrxPW",
        "colab": {
          "base_uri": "https://localhost:8080/"
        },
        "outputId": "4850e2ab-4470-4c67-8b9f-6b61ec8cc3cc"
      },
      "execution_count": null,
      "outputs": [
        {
          "output_type": "stream",
          "name": "stdout",
          "text": [
            "Requirement already satisfied: pandas in /usr/local/lib/python3.10/dist-packages (1.5.3)\n",
            "Requirement already satisfied: python-dateutil>=2.8.1 in /usr/local/lib/python3.10/dist-packages (from pandas) (2.8.2)\n",
            "Requirement already satisfied: pytz>=2020.1 in /usr/local/lib/python3.10/dist-packages (from pandas) (2023.3.post1)\n",
            "Requirement already satisfied: numpy>=1.21.0 in /usr/local/lib/python3.10/dist-packages (from pandas) (1.23.5)\n",
            "Requirement already satisfied: six>=1.5 in /usr/local/lib/python3.10/dist-packages (from python-dateutil>=2.8.1->pandas) (1.16.0)\n",
            "Requirement already satisfied: seaborn in /usr/local/lib/python3.10/dist-packages (0.12.2)\n",
            "Requirement already satisfied: numpy!=1.24.0,>=1.17 in /usr/local/lib/python3.10/dist-packages (from seaborn) (1.23.5)\n",
            "Requirement already satisfied: pandas>=0.25 in /usr/local/lib/python3.10/dist-packages (from seaborn) (1.5.3)\n",
            "Requirement already satisfied: matplotlib!=3.6.1,>=3.1 in /usr/local/lib/python3.10/dist-packages (from seaborn) (3.7.1)\n",
            "Requirement already satisfied: contourpy>=1.0.1 in /usr/local/lib/python3.10/dist-packages (from matplotlib!=3.6.1,>=3.1->seaborn) (1.2.0)\n",
            "Requirement already satisfied: cycler>=0.10 in /usr/local/lib/python3.10/dist-packages (from matplotlib!=3.6.1,>=3.1->seaborn) (0.12.1)\n",
            "Requirement already satisfied: fonttools>=4.22.0 in /usr/local/lib/python3.10/dist-packages (from matplotlib!=3.6.1,>=3.1->seaborn) (4.44.0)\n",
            "Requirement already satisfied: kiwisolver>=1.0.1 in /usr/local/lib/python3.10/dist-packages (from matplotlib!=3.6.1,>=3.1->seaborn) (1.4.5)\n",
            "Requirement already satisfied: packaging>=20.0 in /usr/local/lib/python3.10/dist-packages (from matplotlib!=3.6.1,>=3.1->seaborn) (23.2)\n",
            "Requirement already satisfied: pillow>=6.2.0 in /usr/local/lib/python3.10/dist-packages (from matplotlib!=3.6.1,>=3.1->seaborn) (9.4.0)\n",
            "Requirement already satisfied: pyparsing>=2.3.1 in /usr/local/lib/python3.10/dist-packages (from matplotlib!=3.6.1,>=3.1->seaborn) (3.1.1)\n",
            "Requirement already satisfied: python-dateutil>=2.7 in /usr/local/lib/python3.10/dist-packages (from matplotlib!=3.6.1,>=3.1->seaborn) (2.8.2)\n",
            "Requirement already satisfied: pytz>=2020.1 in /usr/local/lib/python3.10/dist-packages (from pandas>=0.25->seaborn) (2023.3.post1)\n",
            "Requirement already satisfied: six>=1.5 in /usr/local/lib/python3.10/dist-packages (from python-dateutil>=2.7->matplotlib!=3.6.1,>=3.1->seaborn) (1.16.0)\n"
          ]
        }
      ]
    },
    {
      "cell_type": "code",
      "execution_count": null,
      "metadata": {
        "id": "7u0VPzz-UKNu"
      },
      "outputs": [],
      "source": [
        "import pandas as pd\n",
        "import seaborn as sns\n",
        "import matplotlib.pyplot as plt"
      ]
    },
    {
      "cell_type": "markdown",
      "source": [
        "##Введение в описательную статистику"
      ],
      "metadata": {
        "id": "yKPA-E-VVSS-"
      }
    },
    {
      "cell_type": "markdown",
      "source": [
        "1. Выберите категориальную целевую переменную (**Y**)\n",
        "\n",
        "2. Выберите переменную для анализа относительно категории (**X**)\n",
        "\n",
        "3. Выведитие обобщенную статистическую информацию переменной (**X**)\n",
        "\n",
        "2. Вычислите среднее, медиану, моду, минимум, максимум, стандартное отклонение относительно целевой пременной из файла Classification datasets в соответствии с вашим вариантом\n",
        "\n",
        "3. Сделайте вывод относительно полученных результатов\n",
        "\n",
        "p.s если у вас нет категориальных признаков - преобразуйте любой числовой в категориальный (https://pandas.pydata.org/docs/reference/api/pandas.cut.html). Важно **не** использовать преобразованный Y вместе с этим же X (то есть, если вы преобразовали возраст в категорию, то вы не моежет использовать возраст в качестве X и возраст категорию в качестве Y)"
      ],
      "metadata": {
        "id": "Rrr4WPcGUwOx"
      }
    },
    {
      "cell_type": "code",
      "source": [
        "df = pd.read_csv('/world-data-2023.csv')\n",
        "df"
      ],
      "metadata": {
        "id": "wZiCpTwgUuYw",
        "colab": {
          "base_uri": "https://localhost:8080/",
          "height": 495
        },
        "outputId": "151e69ce-ac9e-4a66-ed16-293a820560ba"
      },
      "execution_count": null,
      "outputs": [
        {
          "output_type": "execute_result",
          "data": {
            "text/plain": [
              "         Country Density\\n(P/Km2) Abbreviation Agricultural Land( %)  \\\n",
              "0    Afghanistan               60           AF                58.10%   \n",
              "1        Albania              105           AL                43.10%   \n",
              "2        Algeria               18           DZ                17.40%   \n",
              "3        Andorra              164           AD                40.00%   \n",
              "4         Angola               26           AO                47.50%   \n",
              "..           ...              ...          ...                   ...   \n",
              "190    Venezuela               32           VE                24.50%   \n",
              "191      Vietnam              314           VN                39.30%   \n",
              "192        Yemen               56           YE                44.60%   \n",
              "193       Zambia               25           ZM                32.10%   \n",
              "194     Zimbabwe               38           ZW                41.90%   \n",
              "\n",
              "    Land Area(Km2) Armed Forces size  Birth Rate  Calling Code  \\\n",
              "0          652,230           323,000       32.49          93.0   \n",
              "1           28,748             9,000       11.78         355.0   \n",
              "2        2,381,741           317,000       24.28         213.0   \n",
              "3              468               NaN        7.20         376.0   \n",
              "4        1,246,700           117,000       40.73         244.0   \n",
              "..             ...               ...         ...           ...   \n",
              "190        912,050           343,000       17.88          58.0   \n",
              "191        331,210           522,000       16.75          84.0   \n",
              "192        527,968            40,000       30.45         967.0   \n",
              "193        752,618            16,000       36.19         260.0   \n",
              "194        390,757            51,000       30.68         263.0   \n",
              "\n",
              "    Capital/Major City Co2-Emissions  ... Out of pocket health expenditure  \\\n",
              "0                Kabul         8,672  ...                           78.40%   \n",
              "1               Tirana         4,536  ...                           56.90%   \n",
              "2              Algiers       150,006  ...                           28.10%   \n",
              "3     Andorra la Vella           469  ...                           36.40%   \n",
              "4               Luanda        34,693  ...                           33.40%   \n",
              "..                 ...           ...  ...                              ...   \n",
              "190            Caracas       164,175  ...                           45.80%   \n",
              "191              Hanoi       192,668  ...                           43.50%   \n",
              "192              Sanaa        10,609  ...                           81.00%   \n",
              "193             Lusaka         5,141  ...                           27.50%   \n",
              "194             Harare        10,983  ...                           25.80%   \n",
              "\n",
              "    Physicians per thousand  Population  \\\n",
              "0                      0.28  38,041,754   \n",
              "1                      1.20   2,854,191   \n",
              "2                      1.72  43,053,054   \n",
              "3                      3.33      77,142   \n",
              "4                      0.21  31,825,295   \n",
              "..                      ...         ...   \n",
              "190                    1.92  28,515,829   \n",
              "191                    0.82  96,462,106   \n",
              "192                    0.31  29,161,922   \n",
              "193                    1.19  17,861,030   \n",
              "194                    0.21  14,645,468   \n",
              "\n",
              "     Population: Labor force participation (%) Tax revenue (%) Total tax rate  \\\n",
              "0                                       48.90%           9.30%         71.40%   \n",
              "1                                       55.70%          18.60%         36.60%   \n",
              "2                                       41.20%          37.20%         66.10%   \n",
              "3                                          NaN             NaN            NaN   \n",
              "4                                       77.50%           9.20%         49.10%   \n",
              "..                                         ...             ...            ...   \n",
              "190                                     59.70%             NaN         73.30%   \n",
              "191                                     77.40%          19.10%         37.60%   \n",
              "192                                     38.00%             NaN         26.60%   \n",
              "193                                     74.60%          16.20%         15.60%   \n",
              "194                                     83.10%          20.70%         31.60%   \n",
              "\n",
              "    Unemployment rate Urban_population   Latitude   Longitude  \n",
              "0              11.12%        9,797,273  33.939110   67.709953  \n",
              "1              12.33%        1,747,593  41.153332   20.168331  \n",
              "2              11.70%       31,510,100  28.033886    1.659626  \n",
              "3                 NaN           67,873  42.506285    1.521801  \n",
              "4               6.89%       21,061,025 -11.202692   17.873887  \n",
              "..                ...              ...        ...         ...  \n",
              "190             8.80%       25,162,368   6.423750  -66.589730  \n",
              "191             2.01%       35,332,140  14.058324  108.277199  \n",
              "192            12.91%       10,869,523  15.552727   48.516388  \n",
              "193            11.43%        7,871,713 -13.133897   27.849332  \n",
              "194             4.95%        4,717,305 -19.015438   29.154857  \n",
              "\n",
              "[195 rows x 35 columns]"
            ],
            "text/html": [
              "\n",
              "  <div id=\"df-9627b33c-2ccc-40cc-abea-a35df0c892b1\" class=\"colab-df-container\">\n",
              "    <div>\n",
              "<style scoped>\n",
              "    .dataframe tbody tr th:only-of-type {\n",
              "        vertical-align: middle;\n",
              "    }\n",
              "\n",
              "    .dataframe tbody tr th {\n",
              "        vertical-align: top;\n",
              "    }\n",
              "\n",
              "    .dataframe thead th {\n",
              "        text-align: right;\n",
              "    }\n",
              "</style>\n",
              "<table border=\"1\" class=\"dataframe\">\n",
              "  <thead>\n",
              "    <tr style=\"text-align: right;\">\n",
              "      <th></th>\n",
              "      <th>Country</th>\n",
              "      <th>Density\\n(P/Km2)</th>\n",
              "      <th>Abbreviation</th>\n",
              "      <th>Agricultural Land( %)</th>\n",
              "      <th>Land Area(Km2)</th>\n",
              "      <th>Armed Forces size</th>\n",
              "      <th>Birth Rate</th>\n",
              "      <th>Calling Code</th>\n",
              "      <th>Capital/Major City</th>\n",
              "      <th>Co2-Emissions</th>\n",
              "      <th>...</th>\n",
              "      <th>Out of pocket health expenditure</th>\n",
              "      <th>Physicians per thousand</th>\n",
              "      <th>Population</th>\n",
              "      <th>Population: Labor force participation (%)</th>\n",
              "      <th>Tax revenue (%)</th>\n",
              "      <th>Total tax rate</th>\n",
              "      <th>Unemployment rate</th>\n",
              "      <th>Urban_population</th>\n",
              "      <th>Latitude</th>\n",
              "      <th>Longitude</th>\n",
              "    </tr>\n",
              "  </thead>\n",
              "  <tbody>\n",
              "    <tr>\n",
              "      <th>0</th>\n",
              "      <td>Afghanistan</td>\n",
              "      <td>60</td>\n",
              "      <td>AF</td>\n",
              "      <td>58.10%</td>\n",
              "      <td>652,230</td>\n",
              "      <td>323,000</td>\n",
              "      <td>32.49</td>\n",
              "      <td>93.0</td>\n",
              "      <td>Kabul</td>\n",
              "      <td>8,672</td>\n",
              "      <td>...</td>\n",
              "      <td>78.40%</td>\n",
              "      <td>0.28</td>\n",
              "      <td>38,041,754</td>\n",
              "      <td>48.90%</td>\n",
              "      <td>9.30%</td>\n",
              "      <td>71.40%</td>\n",
              "      <td>11.12%</td>\n",
              "      <td>9,797,273</td>\n",
              "      <td>33.939110</td>\n",
              "      <td>67.709953</td>\n",
              "    </tr>\n",
              "    <tr>\n",
              "      <th>1</th>\n",
              "      <td>Albania</td>\n",
              "      <td>105</td>\n",
              "      <td>AL</td>\n",
              "      <td>43.10%</td>\n",
              "      <td>28,748</td>\n",
              "      <td>9,000</td>\n",
              "      <td>11.78</td>\n",
              "      <td>355.0</td>\n",
              "      <td>Tirana</td>\n",
              "      <td>4,536</td>\n",
              "      <td>...</td>\n",
              "      <td>56.90%</td>\n",
              "      <td>1.20</td>\n",
              "      <td>2,854,191</td>\n",
              "      <td>55.70%</td>\n",
              "      <td>18.60%</td>\n",
              "      <td>36.60%</td>\n",
              "      <td>12.33%</td>\n",
              "      <td>1,747,593</td>\n",
              "      <td>41.153332</td>\n",
              "      <td>20.168331</td>\n",
              "    </tr>\n",
              "    <tr>\n",
              "      <th>2</th>\n",
              "      <td>Algeria</td>\n",
              "      <td>18</td>\n",
              "      <td>DZ</td>\n",
              "      <td>17.40%</td>\n",
              "      <td>2,381,741</td>\n",
              "      <td>317,000</td>\n",
              "      <td>24.28</td>\n",
              "      <td>213.0</td>\n",
              "      <td>Algiers</td>\n",
              "      <td>150,006</td>\n",
              "      <td>...</td>\n",
              "      <td>28.10%</td>\n",
              "      <td>1.72</td>\n",
              "      <td>43,053,054</td>\n",
              "      <td>41.20%</td>\n",
              "      <td>37.20%</td>\n",
              "      <td>66.10%</td>\n",
              "      <td>11.70%</td>\n",
              "      <td>31,510,100</td>\n",
              "      <td>28.033886</td>\n",
              "      <td>1.659626</td>\n",
              "    </tr>\n",
              "    <tr>\n",
              "      <th>3</th>\n",
              "      <td>Andorra</td>\n",
              "      <td>164</td>\n",
              "      <td>AD</td>\n",
              "      <td>40.00%</td>\n",
              "      <td>468</td>\n",
              "      <td>NaN</td>\n",
              "      <td>7.20</td>\n",
              "      <td>376.0</td>\n",
              "      <td>Andorra la Vella</td>\n",
              "      <td>469</td>\n",
              "      <td>...</td>\n",
              "      <td>36.40%</td>\n",
              "      <td>3.33</td>\n",
              "      <td>77,142</td>\n",
              "      <td>NaN</td>\n",
              "      <td>NaN</td>\n",
              "      <td>NaN</td>\n",
              "      <td>NaN</td>\n",
              "      <td>67,873</td>\n",
              "      <td>42.506285</td>\n",
              "      <td>1.521801</td>\n",
              "    </tr>\n",
              "    <tr>\n",
              "      <th>4</th>\n",
              "      <td>Angola</td>\n",
              "      <td>26</td>\n",
              "      <td>AO</td>\n",
              "      <td>47.50%</td>\n",
              "      <td>1,246,700</td>\n",
              "      <td>117,000</td>\n",
              "      <td>40.73</td>\n",
              "      <td>244.0</td>\n",
              "      <td>Luanda</td>\n",
              "      <td>34,693</td>\n",
              "      <td>...</td>\n",
              "      <td>33.40%</td>\n",
              "      <td>0.21</td>\n",
              "      <td>31,825,295</td>\n",
              "      <td>77.50%</td>\n",
              "      <td>9.20%</td>\n",
              "      <td>49.10%</td>\n",
              "      <td>6.89%</td>\n",
              "      <td>21,061,025</td>\n",
              "      <td>-11.202692</td>\n",
              "      <td>17.873887</td>\n",
              "    </tr>\n",
              "    <tr>\n",
              "      <th>...</th>\n",
              "      <td>...</td>\n",
              "      <td>...</td>\n",
              "      <td>...</td>\n",
              "      <td>...</td>\n",
              "      <td>...</td>\n",
              "      <td>...</td>\n",
              "      <td>...</td>\n",
              "      <td>...</td>\n",
              "      <td>...</td>\n",
              "      <td>...</td>\n",
              "      <td>...</td>\n",
              "      <td>...</td>\n",
              "      <td>...</td>\n",
              "      <td>...</td>\n",
              "      <td>...</td>\n",
              "      <td>...</td>\n",
              "      <td>...</td>\n",
              "      <td>...</td>\n",
              "      <td>...</td>\n",
              "      <td>...</td>\n",
              "      <td>...</td>\n",
              "    </tr>\n",
              "    <tr>\n",
              "      <th>190</th>\n",
              "      <td>Venezuela</td>\n",
              "      <td>32</td>\n",
              "      <td>VE</td>\n",
              "      <td>24.50%</td>\n",
              "      <td>912,050</td>\n",
              "      <td>343,000</td>\n",
              "      <td>17.88</td>\n",
              "      <td>58.0</td>\n",
              "      <td>Caracas</td>\n",
              "      <td>164,175</td>\n",
              "      <td>...</td>\n",
              "      <td>45.80%</td>\n",
              "      <td>1.92</td>\n",
              "      <td>28,515,829</td>\n",
              "      <td>59.70%</td>\n",
              "      <td>NaN</td>\n",
              "      <td>73.30%</td>\n",
              "      <td>8.80%</td>\n",
              "      <td>25,162,368</td>\n",
              "      <td>6.423750</td>\n",
              "      <td>-66.589730</td>\n",
              "    </tr>\n",
              "    <tr>\n",
              "      <th>191</th>\n",
              "      <td>Vietnam</td>\n",
              "      <td>314</td>\n",
              "      <td>VN</td>\n",
              "      <td>39.30%</td>\n",
              "      <td>331,210</td>\n",
              "      <td>522,000</td>\n",
              "      <td>16.75</td>\n",
              "      <td>84.0</td>\n",
              "      <td>Hanoi</td>\n",
              "      <td>192,668</td>\n",
              "      <td>...</td>\n",
              "      <td>43.50%</td>\n",
              "      <td>0.82</td>\n",
              "      <td>96,462,106</td>\n",
              "      <td>77.40%</td>\n",
              "      <td>19.10%</td>\n",
              "      <td>37.60%</td>\n",
              "      <td>2.01%</td>\n",
              "      <td>35,332,140</td>\n",
              "      <td>14.058324</td>\n",
              "      <td>108.277199</td>\n",
              "    </tr>\n",
              "    <tr>\n",
              "      <th>192</th>\n",
              "      <td>Yemen</td>\n",
              "      <td>56</td>\n",
              "      <td>YE</td>\n",
              "      <td>44.60%</td>\n",
              "      <td>527,968</td>\n",
              "      <td>40,000</td>\n",
              "      <td>30.45</td>\n",
              "      <td>967.0</td>\n",
              "      <td>Sanaa</td>\n",
              "      <td>10,609</td>\n",
              "      <td>...</td>\n",
              "      <td>81.00%</td>\n",
              "      <td>0.31</td>\n",
              "      <td>29,161,922</td>\n",
              "      <td>38.00%</td>\n",
              "      <td>NaN</td>\n",
              "      <td>26.60%</td>\n",
              "      <td>12.91%</td>\n",
              "      <td>10,869,523</td>\n",
              "      <td>15.552727</td>\n",
              "      <td>48.516388</td>\n",
              "    </tr>\n",
              "    <tr>\n",
              "      <th>193</th>\n",
              "      <td>Zambia</td>\n",
              "      <td>25</td>\n",
              "      <td>ZM</td>\n",
              "      <td>32.10%</td>\n",
              "      <td>752,618</td>\n",
              "      <td>16,000</td>\n",
              "      <td>36.19</td>\n",
              "      <td>260.0</td>\n",
              "      <td>Lusaka</td>\n",
              "      <td>5,141</td>\n",
              "      <td>...</td>\n",
              "      <td>27.50%</td>\n",
              "      <td>1.19</td>\n",
              "      <td>17,861,030</td>\n",
              "      <td>74.60%</td>\n",
              "      <td>16.20%</td>\n",
              "      <td>15.60%</td>\n",
              "      <td>11.43%</td>\n",
              "      <td>7,871,713</td>\n",
              "      <td>-13.133897</td>\n",
              "      <td>27.849332</td>\n",
              "    </tr>\n",
              "    <tr>\n",
              "      <th>194</th>\n",
              "      <td>Zimbabwe</td>\n",
              "      <td>38</td>\n",
              "      <td>ZW</td>\n",
              "      <td>41.90%</td>\n",
              "      <td>390,757</td>\n",
              "      <td>51,000</td>\n",
              "      <td>30.68</td>\n",
              "      <td>263.0</td>\n",
              "      <td>Harare</td>\n",
              "      <td>10,983</td>\n",
              "      <td>...</td>\n",
              "      <td>25.80%</td>\n",
              "      <td>0.21</td>\n",
              "      <td>14,645,468</td>\n",
              "      <td>83.10%</td>\n",
              "      <td>20.70%</td>\n",
              "      <td>31.60%</td>\n",
              "      <td>4.95%</td>\n",
              "      <td>4,717,305</td>\n",
              "      <td>-19.015438</td>\n",
              "      <td>29.154857</td>\n",
              "    </tr>\n",
              "  </tbody>\n",
              "</table>\n",
              "<p>195 rows × 35 columns</p>\n",
              "</div>\n",
              "    <div class=\"colab-df-buttons\">\n",
              "\n",
              "  <div class=\"colab-df-container\">\n",
              "    <button class=\"colab-df-convert\" onclick=\"convertToInteractive('df-9627b33c-2ccc-40cc-abea-a35df0c892b1')\"\n",
              "            title=\"Convert this dataframe to an interactive table.\"\n",
              "            style=\"display:none;\">\n",
              "\n",
              "  <svg xmlns=\"http://www.w3.org/2000/svg\" height=\"24px\" viewBox=\"0 -960 960 960\">\n",
              "    <path d=\"M120-120v-720h720v720H120Zm60-500h600v-160H180v160Zm220 220h160v-160H400v160Zm0 220h160v-160H400v160ZM180-400h160v-160H180v160Zm440 0h160v-160H620v160ZM180-180h160v-160H180v160Zm440 0h160v-160H620v160Z\"/>\n",
              "  </svg>\n",
              "    </button>\n",
              "\n",
              "  <style>\n",
              "    .colab-df-container {\n",
              "      display:flex;\n",
              "      gap: 12px;\n",
              "    }\n",
              "\n",
              "    .colab-df-convert {\n",
              "      background-color: #E8F0FE;\n",
              "      border: none;\n",
              "      border-radius: 50%;\n",
              "      cursor: pointer;\n",
              "      display: none;\n",
              "      fill: #1967D2;\n",
              "      height: 32px;\n",
              "      padding: 0 0 0 0;\n",
              "      width: 32px;\n",
              "    }\n",
              "\n",
              "    .colab-df-convert:hover {\n",
              "      background-color: #E2EBFA;\n",
              "      box-shadow: 0px 1px 2px rgba(60, 64, 67, 0.3), 0px 1px 3px 1px rgba(60, 64, 67, 0.15);\n",
              "      fill: #174EA6;\n",
              "    }\n",
              "\n",
              "    .colab-df-buttons div {\n",
              "      margin-bottom: 4px;\n",
              "    }\n",
              "\n",
              "    [theme=dark] .colab-df-convert {\n",
              "      background-color: #3B4455;\n",
              "      fill: #D2E3FC;\n",
              "    }\n",
              "\n",
              "    [theme=dark] .colab-df-convert:hover {\n",
              "      background-color: #434B5C;\n",
              "      box-shadow: 0px 1px 3px 1px rgba(0, 0, 0, 0.15);\n",
              "      filter: drop-shadow(0px 1px 2px rgba(0, 0, 0, 0.3));\n",
              "      fill: #FFFFFF;\n",
              "    }\n",
              "  </style>\n",
              "\n",
              "    <script>\n",
              "      const buttonEl =\n",
              "        document.querySelector('#df-9627b33c-2ccc-40cc-abea-a35df0c892b1 button.colab-df-convert');\n",
              "      buttonEl.style.display =\n",
              "        google.colab.kernel.accessAllowed ? 'block' : 'none';\n",
              "\n",
              "      async function convertToInteractive(key) {\n",
              "        const element = document.querySelector('#df-9627b33c-2ccc-40cc-abea-a35df0c892b1');\n",
              "        const dataTable =\n",
              "          await google.colab.kernel.invokeFunction('convertToInteractive',\n",
              "                                                    [key], {});\n",
              "        if (!dataTable) return;\n",
              "\n",
              "        const docLinkHtml = 'Like what you see? Visit the ' +\n",
              "          '<a target=\"_blank\" href=https://colab.research.google.com/notebooks/data_table.ipynb>data table notebook</a>'\n",
              "          + ' to learn more about interactive tables.';\n",
              "        element.innerHTML = '';\n",
              "        dataTable['output_type'] = 'display_data';\n",
              "        await google.colab.output.renderOutput(dataTable, element);\n",
              "        const docLink = document.createElement('div');\n",
              "        docLink.innerHTML = docLinkHtml;\n",
              "        element.appendChild(docLink);\n",
              "      }\n",
              "    </script>\n",
              "  </div>\n",
              "\n",
              "\n",
              "<div id=\"df-71d63568-f19c-4c65-b4b4-15ea39e5755d\">\n",
              "  <button class=\"colab-df-quickchart\" onclick=\"quickchart('df-71d63568-f19c-4c65-b4b4-15ea39e5755d')\"\n",
              "            title=\"Suggest charts\"\n",
              "            style=\"display:none;\">\n",
              "\n",
              "<svg xmlns=\"http://www.w3.org/2000/svg\" height=\"24px\"viewBox=\"0 0 24 24\"\n",
              "     width=\"24px\">\n",
              "    <g>\n",
              "        <path d=\"M19 3H5c-1.1 0-2 .9-2 2v14c0 1.1.9 2 2 2h14c1.1 0 2-.9 2-2V5c0-1.1-.9-2-2-2zM9 17H7v-7h2v7zm4 0h-2V7h2v10zm4 0h-2v-4h2v4z\"/>\n",
              "    </g>\n",
              "</svg>\n",
              "  </button>\n",
              "\n",
              "<style>\n",
              "  .colab-df-quickchart {\n",
              "      --bg-color: #E8F0FE;\n",
              "      --fill-color: #1967D2;\n",
              "      --hover-bg-color: #E2EBFA;\n",
              "      --hover-fill-color: #174EA6;\n",
              "      --disabled-fill-color: #AAA;\n",
              "      --disabled-bg-color: #DDD;\n",
              "  }\n",
              "\n",
              "  [theme=dark] .colab-df-quickchart {\n",
              "      --bg-color: #3B4455;\n",
              "      --fill-color: #D2E3FC;\n",
              "      --hover-bg-color: #434B5C;\n",
              "      --hover-fill-color: #FFFFFF;\n",
              "      --disabled-bg-color: #3B4455;\n",
              "      --disabled-fill-color: #666;\n",
              "  }\n",
              "\n",
              "  .colab-df-quickchart {\n",
              "    background-color: var(--bg-color);\n",
              "    border: none;\n",
              "    border-radius: 50%;\n",
              "    cursor: pointer;\n",
              "    display: none;\n",
              "    fill: var(--fill-color);\n",
              "    height: 32px;\n",
              "    padding: 0;\n",
              "    width: 32px;\n",
              "  }\n",
              "\n",
              "  .colab-df-quickchart:hover {\n",
              "    background-color: var(--hover-bg-color);\n",
              "    box-shadow: 0 1px 2px rgba(60, 64, 67, 0.3), 0 1px 3px 1px rgba(60, 64, 67, 0.15);\n",
              "    fill: var(--button-hover-fill-color);\n",
              "  }\n",
              "\n",
              "  .colab-df-quickchart-complete:disabled,\n",
              "  .colab-df-quickchart-complete:disabled:hover {\n",
              "    background-color: var(--disabled-bg-color);\n",
              "    fill: var(--disabled-fill-color);\n",
              "    box-shadow: none;\n",
              "  }\n",
              "\n",
              "  .colab-df-spinner {\n",
              "    border: 2px solid var(--fill-color);\n",
              "    border-color: transparent;\n",
              "    border-bottom-color: var(--fill-color);\n",
              "    animation:\n",
              "      spin 1s steps(1) infinite;\n",
              "  }\n",
              "\n",
              "  @keyframes spin {\n",
              "    0% {\n",
              "      border-color: transparent;\n",
              "      border-bottom-color: var(--fill-color);\n",
              "      border-left-color: var(--fill-color);\n",
              "    }\n",
              "    20% {\n",
              "      border-color: transparent;\n",
              "      border-left-color: var(--fill-color);\n",
              "      border-top-color: var(--fill-color);\n",
              "    }\n",
              "    30% {\n",
              "      border-color: transparent;\n",
              "      border-left-color: var(--fill-color);\n",
              "      border-top-color: var(--fill-color);\n",
              "      border-right-color: var(--fill-color);\n",
              "    }\n",
              "    40% {\n",
              "      border-color: transparent;\n",
              "      border-right-color: var(--fill-color);\n",
              "      border-top-color: var(--fill-color);\n",
              "    }\n",
              "    60% {\n",
              "      border-color: transparent;\n",
              "      border-right-color: var(--fill-color);\n",
              "    }\n",
              "    80% {\n",
              "      border-color: transparent;\n",
              "      border-right-color: var(--fill-color);\n",
              "      border-bottom-color: var(--fill-color);\n",
              "    }\n",
              "    90% {\n",
              "      border-color: transparent;\n",
              "      border-bottom-color: var(--fill-color);\n",
              "    }\n",
              "  }\n",
              "</style>\n",
              "\n",
              "  <script>\n",
              "    async function quickchart(key) {\n",
              "      const quickchartButtonEl =\n",
              "        document.querySelector('#' + key + ' button');\n",
              "      quickchartButtonEl.disabled = true;  // To prevent multiple clicks.\n",
              "      quickchartButtonEl.classList.add('colab-df-spinner');\n",
              "      try {\n",
              "        const charts = await google.colab.kernel.invokeFunction(\n",
              "            'suggestCharts', [key], {});\n",
              "      } catch (error) {\n",
              "        console.error('Error during call to suggestCharts:', error);\n",
              "      }\n",
              "      quickchartButtonEl.classList.remove('colab-df-spinner');\n",
              "      quickchartButtonEl.classList.add('colab-df-quickchart-complete');\n",
              "    }\n",
              "    (() => {\n",
              "      let quickchartButtonEl =\n",
              "        document.querySelector('#df-71d63568-f19c-4c65-b4b4-15ea39e5755d button');\n",
              "      quickchartButtonEl.style.display =\n",
              "        google.colab.kernel.accessAllowed ? 'block' : 'none';\n",
              "    })();\n",
              "  </script>\n",
              "</div>\n",
              "    </div>\n",
              "  </div>\n"
            ]
          },
          "metadata": {},
          "execution_count": 10
        }
      ]
    },
    {
      "cell_type": "code",
      "source": [
        "\n",
        "describe =  df.describe()\n",
        "describe"
      ],
      "metadata": {
        "id": "u3OeTGcGp2sY",
        "colab": {
          "base_uri": "https://localhost:8080/",
          "height": 317
        },
        "outputId": "e3ce9a9d-3770-4057-e946-77cef55036d8"
      },
      "execution_count": null,
      "outputs": [
        {
          "output_type": "execute_result",
          "data": {
            "text/plain": [
              "       Birth Rate  Calling Code  Fertility Rate  Infant mortality  \\\n",
              "count  189.000000    194.000000      188.000000        189.000000   \n",
              "mean    20.214974    360.546392        2.698138         21.332804   \n",
              "std      9.945774    323.236419        1.282267         19.548058   \n",
              "min      5.900000      1.000000        0.980000          1.400000   \n",
              "25%     11.300000     82.500000        1.705000          6.000000   \n",
              "50%     17.950000    255.500000        2.245000         14.000000   \n",
              "75%     28.750000    506.750000        3.597500         32.700000   \n",
              "max     46.080000   1876.000000        6.910000         84.500000   \n",
              "\n",
              "       Life expectancy  Maternal mortality ratio  Physicians per thousand  \\\n",
              "count       187.000000                181.000000               188.000000   \n",
              "mean         72.279679                160.392265                 1.839840   \n",
              "std           7.483661                233.502024                 1.684261   \n",
              "min          52.800000                  2.000000                 0.010000   \n",
              "25%          67.000000                 13.000000                 0.332500   \n",
              "50%          73.200000                 53.000000                 1.460000   \n",
              "75%          77.500000                186.000000                 2.935000   \n",
              "max          85.400000               1150.000000                 8.420000   \n",
              "\n",
              "         Latitude   Longitude  \n",
              "count  194.000000  194.000000  \n",
              "mean    19.092351   20.232434  \n",
              "std     23.961779   66.716110  \n",
              "min    -40.900557 -175.198242  \n",
              "25%      4.544175   -7.941496  \n",
              "50%     17.273849   20.972652  \n",
              "75%     40.124603   48.281523  \n",
              "max     64.963051  178.065032  "
            ],
            "text/html": [
              "\n",
              "  <div id=\"df-2ddef256-ebb9-4241-a5c5-a0fe419e2fa6\" class=\"colab-df-container\">\n",
              "    <div>\n",
              "<style scoped>\n",
              "    .dataframe tbody tr th:only-of-type {\n",
              "        vertical-align: middle;\n",
              "    }\n",
              "\n",
              "    .dataframe tbody tr th {\n",
              "        vertical-align: top;\n",
              "    }\n",
              "\n",
              "    .dataframe thead th {\n",
              "        text-align: right;\n",
              "    }\n",
              "</style>\n",
              "<table border=\"1\" class=\"dataframe\">\n",
              "  <thead>\n",
              "    <tr style=\"text-align: right;\">\n",
              "      <th></th>\n",
              "      <th>Birth Rate</th>\n",
              "      <th>Calling Code</th>\n",
              "      <th>Fertility Rate</th>\n",
              "      <th>Infant mortality</th>\n",
              "      <th>Life expectancy</th>\n",
              "      <th>Maternal mortality ratio</th>\n",
              "      <th>Physicians per thousand</th>\n",
              "      <th>Latitude</th>\n",
              "      <th>Longitude</th>\n",
              "    </tr>\n",
              "  </thead>\n",
              "  <tbody>\n",
              "    <tr>\n",
              "      <th>count</th>\n",
              "      <td>189.000000</td>\n",
              "      <td>194.000000</td>\n",
              "      <td>188.000000</td>\n",
              "      <td>189.000000</td>\n",
              "      <td>187.000000</td>\n",
              "      <td>181.000000</td>\n",
              "      <td>188.000000</td>\n",
              "      <td>194.000000</td>\n",
              "      <td>194.000000</td>\n",
              "    </tr>\n",
              "    <tr>\n",
              "      <th>mean</th>\n",
              "      <td>20.214974</td>\n",
              "      <td>360.546392</td>\n",
              "      <td>2.698138</td>\n",
              "      <td>21.332804</td>\n",
              "      <td>72.279679</td>\n",
              "      <td>160.392265</td>\n",
              "      <td>1.839840</td>\n",
              "      <td>19.092351</td>\n",
              "      <td>20.232434</td>\n",
              "    </tr>\n",
              "    <tr>\n",
              "      <th>std</th>\n",
              "      <td>9.945774</td>\n",
              "      <td>323.236419</td>\n",
              "      <td>1.282267</td>\n",
              "      <td>19.548058</td>\n",
              "      <td>7.483661</td>\n",
              "      <td>233.502024</td>\n",
              "      <td>1.684261</td>\n",
              "      <td>23.961779</td>\n",
              "      <td>66.716110</td>\n",
              "    </tr>\n",
              "    <tr>\n",
              "      <th>min</th>\n",
              "      <td>5.900000</td>\n",
              "      <td>1.000000</td>\n",
              "      <td>0.980000</td>\n",
              "      <td>1.400000</td>\n",
              "      <td>52.800000</td>\n",
              "      <td>2.000000</td>\n",
              "      <td>0.010000</td>\n",
              "      <td>-40.900557</td>\n",
              "      <td>-175.198242</td>\n",
              "    </tr>\n",
              "    <tr>\n",
              "      <th>25%</th>\n",
              "      <td>11.300000</td>\n",
              "      <td>82.500000</td>\n",
              "      <td>1.705000</td>\n",
              "      <td>6.000000</td>\n",
              "      <td>67.000000</td>\n",
              "      <td>13.000000</td>\n",
              "      <td>0.332500</td>\n",
              "      <td>4.544175</td>\n",
              "      <td>-7.941496</td>\n",
              "    </tr>\n",
              "    <tr>\n",
              "      <th>50%</th>\n",
              "      <td>17.950000</td>\n",
              "      <td>255.500000</td>\n",
              "      <td>2.245000</td>\n",
              "      <td>14.000000</td>\n",
              "      <td>73.200000</td>\n",
              "      <td>53.000000</td>\n",
              "      <td>1.460000</td>\n",
              "      <td>17.273849</td>\n",
              "      <td>20.972652</td>\n",
              "    </tr>\n",
              "    <tr>\n",
              "      <th>75%</th>\n",
              "      <td>28.750000</td>\n",
              "      <td>506.750000</td>\n",
              "      <td>3.597500</td>\n",
              "      <td>32.700000</td>\n",
              "      <td>77.500000</td>\n",
              "      <td>186.000000</td>\n",
              "      <td>2.935000</td>\n",
              "      <td>40.124603</td>\n",
              "      <td>48.281523</td>\n",
              "    </tr>\n",
              "    <tr>\n",
              "      <th>max</th>\n",
              "      <td>46.080000</td>\n",
              "      <td>1876.000000</td>\n",
              "      <td>6.910000</td>\n",
              "      <td>84.500000</td>\n",
              "      <td>85.400000</td>\n",
              "      <td>1150.000000</td>\n",
              "      <td>8.420000</td>\n",
              "      <td>64.963051</td>\n",
              "      <td>178.065032</td>\n",
              "    </tr>\n",
              "  </tbody>\n",
              "</table>\n",
              "</div>\n",
              "    <div class=\"colab-df-buttons\">\n",
              "\n",
              "  <div class=\"colab-df-container\">\n",
              "    <button class=\"colab-df-convert\" onclick=\"convertToInteractive('df-2ddef256-ebb9-4241-a5c5-a0fe419e2fa6')\"\n",
              "            title=\"Convert this dataframe to an interactive table.\"\n",
              "            style=\"display:none;\">\n",
              "\n",
              "  <svg xmlns=\"http://www.w3.org/2000/svg\" height=\"24px\" viewBox=\"0 -960 960 960\">\n",
              "    <path d=\"M120-120v-720h720v720H120Zm60-500h600v-160H180v160Zm220 220h160v-160H400v160Zm0 220h160v-160H400v160ZM180-400h160v-160H180v160Zm440 0h160v-160H620v160ZM180-180h160v-160H180v160Zm440 0h160v-160H620v160Z\"/>\n",
              "  </svg>\n",
              "    </button>\n",
              "\n",
              "  <style>\n",
              "    .colab-df-container {\n",
              "      display:flex;\n",
              "      gap: 12px;\n",
              "    }\n",
              "\n",
              "    .colab-df-convert {\n",
              "      background-color: #E8F0FE;\n",
              "      border: none;\n",
              "      border-radius: 50%;\n",
              "      cursor: pointer;\n",
              "      display: none;\n",
              "      fill: #1967D2;\n",
              "      height: 32px;\n",
              "      padding: 0 0 0 0;\n",
              "      width: 32px;\n",
              "    }\n",
              "\n",
              "    .colab-df-convert:hover {\n",
              "      background-color: #E2EBFA;\n",
              "      box-shadow: 0px 1px 2px rgba(60, 64, 67, 0.3), 0px 1px 3px 1px rgba(60, 64, 67, 0.15);\n",
              "      fill: #174EA6;\n",
              "    }\n",
              "\n",
              "    .colab-df-buttons div {\n",
              "      margin-bottom: 4px;\n",
              "    }\n",
              "\n",
              "    [theme=dark] .colab-df-convert {\n",
              "      background-color: #3B4455;\n",
              "      fill: #D2E3FC;\n",
              "    }\n",
              "\n",
              "    [theme=dark] .colab-df-convert:hover {\n",
              "      background-color: #434B5C;\n",
              "      box-shadow: 0px 1px 3px 1px rgba(0, 0, 0, 0.15);\n",
              "      filter: drop-shadow(0px 1px 2px rgba(0, 0, 0, 0.3));\n",
              "      fill: #FFFFFF;\n",
              "    }\n",
              "  </style>\n",
              "\n",
              "    <script>\n",
              "      const buttonEl =\n",
              "        document.querySelector('#df-2ddef256-ebb9-4241-a5c5-a0fe419e2fa6 button.colab-df-convert');\n",
              "      buttonEl.style.display =\n",
              "        google.colab.kernel.accessAllowed ? 'block' : 'none';\n",
              "\n",
              "      async function convertToInteractive(key) {\n",
              "        const element = document.querySelector('#df-2ddef256-ebb9-4241-a5c5-a0fe419e2fa6');\n",
              "        const dataTable =\n",
              "          await google.colab.kernel.invokeFunction('convertToInteractive',\n",
              "                                                    [key], {});\n",
              "        if (!dataTable) return;\n",
              "\n",
              "        const docLinkHtml = 'Like what you see? Visit the ' +\n",
              "          '<a target=\"_blank\" href=https://colab.research.google.com/notebooks/data_table.ipynb>data table notebook</a>'\n",
              "          + ' to learn more about interactive tables.';\n",
              "        element.innerHTML = '';\n",
              "        dataTable['output_type'] = 'display_data';\n",
              "        await google.colab.output.renderOutput(dataTable, element);\n",
              "        const docLink = document.createElement('div');\n",
              "        docLink.innerHTML = docLinkHtml;\n",
              "        element.appendChild(docLink);\n",
              "      }\n",
              "    </script>\n",
              "  </div>\n",
              "\n",
              "\n",
              "<div id=\"df-01d2f329-fc49-4804-be68-35496db18ed1\">\n",
              "  <button class=\"colab-df-quickchart\" onclick=\"quickchart('df-01d2f329-fc49-4804-be68-35496db18ed1')\"\n",
              "            title=\"Suggest charts\"\n",
              "            style=\"display:none;\">\n",
              "\n",
              "<svg xmlns=\"http://www.w3.org/2000/svg\" height=\"24px\"viewBox=\"0 0 24 24\"\n",
              "     width=\"24px\">\n",
              "    <g>\n",
              "        <path d=\"M19 3H5c-1.1 0-2 .9-2 2v14c0 1.1.9 2 2 2h14c1.1 0 2-.9 2-2V5c0-1.1-.9-2-2-2zM9 17H7v-7h2v7zm4 0h-2V7h2v10zm4 0h-2v-4h2v4z\"/>\n",
              "    </g>\n",
              "</svg>\n",
              "  </button>\n",
              "\n",
              "<style>\n",
              "  .colab-df-quickchart {\n",
              "      --bg-color: #E8F0FE;\n",
              "      --fill-color: #1967D2;\n",
              "      --hover-bg-color: #E2EBFA;\n",
              "      --hover-fill-color: #174EA6;\n",
              "      --disabled-fill-color: #AAA;\n",
              "      --disabled-bg-color: #DDD;\n",
              "  }\n",
              "\n",
              "  [theme=dark] .colab-df-quickchart {\n",
              "      --bg-color: #3B4455;\n",
              "      --fill-color: #D2E3FC;\n",
              "      --hover-bg-color: #434B5C;\n",
              "      --hover-fill-color: #FFFFFF;\n",
              "      --disabled-bg-color: #3B4455;\n",
              "      --disabled-fill-color: #666;\n",
              "  }\n",
              "\n",
              "  .colab-df-quickchart {\n",
              "    background-color: var(--bg-color);\n",
              "    border: none;\n",
              "    border-radius: 50%;\n",
              "    cursor: pointer;\n",
              "    display: none;\n",
              "    fill: var(--fill-color);\n",
              "    height: 32px;\n",
              "    padding: 0;\n",
              "    width: 32px;\n",
              "  }\n",
              "\n",
              "  .colab-df-quickchart:hover {\n",
              "    background-color: var(--hover-bg-color);\n",
              "    box-shadow: 0 1px 2px rgba(60, 64, 67, 0.3), 0 1px 3px 1px rgba(60, 64, 67, 0.15);\n",
              "    fill: var(--button-hover-fill-color);\n",
              "  }\n",
              "\n",
              "  .colab-df-quickchart-complete:disabled,\n",
              "  .colab-df-quickchart-complete:disabled:hover {\n",
              "    background-color: var(--disabled-bg-color);\n",
              "    fill: var(--disabled-fill-color);\n",
              "    box-shadow: none;\n",
              "  }\n",
              "\n",
              "  .colab-df-spinner {\n",
              "    border: 2px solid var(--fill-color);\n",
              "    border-color: transparent;\n",
              "    border-bottom-color: var(--fill-color);\n",
              "    animation:\n",
              "      spin 1s steps(1) infinite;\n",
              "  }\n",
              "\n",
              "  @keyframes spin {\n",
              "    0% {\n",
              "      border-color: transparent;\n",
              "      border-bottom-color: var(--fill-color);\n",
              "      border-left-color: var(--fill-color);\n",
              "    }\n",
              "    20% {\n",
              "      border-color: transparent;\n",
              "      border-left-color: var(--fill-color);\n",
              "      border-top-color: var(--fill-color);\n",
              "    }\n",
              "    30% {\n",
              "      border-color: transparent;\n",
              "      border-left-color: var(--fill-color);\n",
              "      border-top-color: var(--fill-color);\n",
              "      border-right-color: var(--fill-color);\n",
              "    }\n",
              "    40% {\n",
              "      border-color: transparent;\n",
              "      border-right-color: var(--fill-color);\n",
              "      border-top-color: var(--fill-color);\n",
              "    }\n",
              "    60% {\n",
              "      border-color: transparent;\n",
              "      border-right-color: var(--fill-color);\n",
              "    }\n",
              "    80% {\n",
              "      border-color: transparent;\n",
              "      border-right-color: var(--fill-color);\n",
              "      border-bottom-color: var(--fill-color);\n",
              "    }\n",
              "    90% {\n",
              "      border-color: transparent;\n",
              "      border-bottom-color: var(--fill-color);\n",
              "    }\n",
              "  }\n",
              "</style>\n",
              "\n",
              "  <script>\n",
              "    async function quickchart(key) {\n",
              "      const quickchartButtonEl =\n",
              "        document.querySelector('#' + key + ' button');\n",
              "      quickchartButtonEl.disabled = true;  // To prevent multiple clicks.\n",
              "      quickchartButtonEl.classList.add('colab-df-spinner');\n",
              "      try {\n",
              "        const charts = await google.colab.kernel.invokeFunction(\n",
              "            'suggestCharts', [key], {});\n",
              "      } catch (error) {\n",
              "        console.error('Error during call to suggestCharts:', error);\n",
              "      }\n",
              "      quickchartButtonEl.classList.remove('colab-df-spinner');\n",
              "      quickchartButtonEl.classList.add('colab-df-quickchart-complete');\n",
              "    }\n",
              "    (() => {\n",
              "      let quickchartButtonEl =\n",
              "        document.querySelector('#df-01d2f329-fc49-4804-be68-35496db18ed1 button');\n",
              "      quickchartButtonEl.style.display =\n",
              "        google.colab.kernel.accessAllowed ? 'block' : 'none';\n",
              "    })();\n",
              "  </script>\n",
              "</div>\n",
              "    </div>\n",
              "  </div>\n"
            ]
          },
          "metadata": {},
          "execution_count": 11
        }
      ]
    },
    {
      "cell_type": "code",
      "source": [
        "mean = df['Birth Rate'].mean()\n",
        "mean\n"
      ],
      "metadata": {
        "id": "ud5DMETOU8hS",
        "colab": {
          "base_uri": "https://localhost:8080/"
        },
        "outputId": "b96ee278-1e19-46a8-ab6c-2024b83d8d24"
      },
      "execution_count": null,
      "outputs": [
        {
          "output_type": "execute_result",
          "data": {
            "text/plain": [
              "20.214973544973546"
            ]
          },
          "metadata": {},
          "execution_count": 12
        }
      ]
    },
    {
      "cell_type": "code",
      "source": [
        "median = df['Birth Rate'].median()\n",
        "median"
      ],
      "metadata": {
        "id": "TVB8P3FDVwxM",
        "colab": {
          "base_uri": "https://localhost:8080/"
        },
        "outputId": "3269f2b2-c44b-40e5-84a7-d23c058a172c"
      },
      "execution_count": null,
      "outputs": [
        {
          "output_type": "execute_result",
          "data": {
            "text/plain": [
              "17.95"
            ]
          },
          "metadata": {},
          "execution_count": 13
        }
      ]
    },
    {
      "cell_type": "code",
      "source": [
        "\n",
        "mode = df['Birth Rate'].mode()\n",
        "mode"
      ],
      "metadata": {
        "id": "0xHCgiXCVyhs",
        "colab": {
          "base_uri": "https://localhost:8080/"
        },
        "outputId": "30e3c03c-248e-4eaa-cf92-a3b0888a333f"
      },
      "execution_count": null,
      "outputs": [
        {
          "output_type": "execute_result",
          "data": {
            "text/plain": [
              "0    10.0\n",
              "1    12.0\n",
              "Name: Birth Rate, dtype: float64"
            ]
          },
          "metadata": {},
          "execution_count": 14
        }
      ]
    },
    {
      "cell_type": "code",
      "source": [
        "min = df['Birth Rate'].min()\n",
        "min"
      ],
      "metadata": {
        "id": "HprClRfXVzxW",
        "colab": {
          "base_uri": "https://localhost:8080/"
        },
        "outputId": "07a41a90-b8ec-44cb-a6d2-76fda961034f"
      },
      "execution_count": null,
      "outputs": [
        {
          "output_type": "execute_result",
          "data": {
            "text/plain": [
              "5.9"
            ]
          },
          "metadata": {},
          "execution_count": 15
        }
      ]
    },
    {
      "cell_type": "code",
      "source": [
        "max = df['Birth Rate'].max()\n",
        "max\n"
      ],
      "metadata": {
        "id": "sA2gR7IAV1k3",
        "colab": {
          "base_uri": "https://localhost:8080/"
        },
        "outputId": "b13e4ce1-7fba-4a0b-8574-35ad3e82c487"
      },
      "execution_count": null,
      "outputs": [
        {
          "output_type": "execute_result",
          "data": {
            "text/plain": [
              "46.08"
            ]
          },
          "metadata": {},
          "execution_count": 16
        }
      ]
    },
    {
      "cell_type": "code",
      "source": [
        "\n",
        "std = df['Birth Rate'].std()\n",
        "std"
      ],
      "metadata": {
        "id": "BWeXHW3Vovz4",
        "colab": {
          "base_uri": "https://localhost:8080/"
        },
        "outputId": "a432ad14-3403-4fbf-ae42-3ab9360d1d06"
      },
      "execution_count": null,
      "outputs": [
        {
          "output_type": "execute_result",
          "data": {
            "text/plain": [
              "9.945773753600424"
            ]
          },
          "metadata": {},
          "execution_count": 17
        }
      ]
    },
    {
      "cell_type": "markdown",
      "source": [
        "Вычислите следующие квантили: 25%, 50% (медиана), 75% для числового признака вашего датасета. Затем найдите интерквартильный размах."
      ],
      "metadata": {
        "id": "dZEVd9QIVMyV"
      }
    },
    {
      "cell_type": "code",
      "source": [
        "\n",
        "q1 = df['Birth Rate'].quantile(0.25)\n",
        "q1\n"
      ],
      "metadata": {
        "id": "2UMcBq9dVbVE",
        "colab": {
          "base_uri": "https://localhost:8080/"
        },
        "outputId": "de0b378d-30f9-485a-a106-303a30d61cdb"
      },
      "execution_count": null,
      "outputs": [
        {
          "output_type": "execute_result",
          "data": {
            "text/plain": [
              "11.3"
            ]
          },
          "metadata": {},
          "execution_count": 18
        }
      ]
    },
    {
      "cell_type": "code",
      "source": [
        "\n",
        "q2 = df['Birth Rate'].quantile(0.5)\n",
        "q2\n"
      ],
      "metadata": {
        "id": "8joJvKduWJsC",
        "colab": {
          "base_uri": "https://localhost:8080/"
        },
        "outputId": "3abdc09e-73fd-4ae9-a430-50542c7cc9ce"
      },
      "execution_count": null,
      "outputs": [
        {
          "output_type": "execute_result",
          "data": {
            "text/plain": [
              "17.95"
            ]
          },
          "metadata": {},
          "execution_count": 19
        }
      ]
    },
    {
      "cell_type": "code",
      "source": [
        "\n",
        "q3 = df['Birth Rate'].quantile(0.75)\n",
        "q3\n"
      ],
      "metadata": {
        "id": "pQTQqM3GWLOV",
        "colab": {
          "base_uri": "https://localhost:8080/"
        },
        "outputId": "4d58ceb8-e387-4611-aa75-4145c21f64bc"
      },
      "execution_count": null,
      "outputs": [
        {
          "output_type": "execute_result",
          "data": {
            "text/plain": [
              "28.75"
            ]
          },
          "metadata": {},
          "execution_count": 20
        }
      ]
    },
    {
      "cell_type": "markdown",
      "source": [],
      "metadata": {
        "id": "SAW8DnnK9kCL"
      }
    },
    {
      "cell_type": "code",
      "source": [
        "iqr = q3 - q1\n",
        "iqr"
      ],
      "metadata": {
        "id": "lAwZHIbfWMmH",
        "colab": {
          "base_uri": "https://localhost:8080/"
        },
        "outputId": "0a890659-cccd-4e80-bf46-fc9021218fe8"
      },
      "execution_count": null,
      "outputs": [
        {
          "output_type": "execute_result",
          "data": {
            "text/plain": [
              "17.45"
            ]
          },
          "metadata": {},
          "execution_count": 21
        }
      ]
    },
    {
      "cell_type": "markdown",
      "source": [
        "Какие выводы можно сделать исходя из полученных статистических данных?"
      ],
      "metadata": {
        "id": "vm0-5sY4WX2I"
      }
    },
    {
      "cell_type": "markdown",
      "source": [
        "Мы видим, что медиана и среднее значение слабо отличаются,  поэтому можно сделать вывод, что распределение - нормальное\n",
        "```\n",
        "Example: видим, что среднее и отклонение различается между группами, следовательно...\n",
        "Сделать подобные выводы относительно других статистических характеристик\n",
        "```\n"
      ],
      "metadata": {
        "id": "OnO1hVGyWe8D"
      }
    },
    {
      "cell_type": "markdown",
      "source": [
        "##Основы визуализации"
      ],
      "metadata": {
        "id": "zDISZbQVWk6m"
      }
    },
    {
      "cell_type": "markdown",
      "source": [
        " Постройте гистограмму переменной (X) относительно категориального признака (Y) из своего датасета."
      ],
      "metadata": {
        "id": "aU8cakZvZBuj"
      }
    },
    {
      "cell_type": "code",
      "source": [
        "df_1 = list(df[df['Physicians per thousand'] <1]['Land Area(Km2)'])\n",
        "df_2 = list(df[df['Physicians per thousand'] <2]['Land Area(Km2)'])\n",
        "df_3 = list(df[df['Physicians per thousand'] <3]['Land Area(Km2)'])\n",
        "type_e = ['1','2','3']\n",
        "plt.figure(figsize=(4, 3))\n",
        "plt.hist([df_1,df_2,df_3],bins=6,label=type_e)\n",
        "plt.title('Гистограмма')\n",
        "plt.legend()\n",
        "\n",
        "plt.show()"
      ],
      "metadata": {
        "id": "9-KTIzdfZLmP",
        "colab": {
          "base_uri": "https://localhost:8080/",
          "height": 314
        },
        "outputId": "038dc1e5-1d58-4f08-9cf9-2a38c70e0162"
      },
      "execution_count": null,
      "outputs": [
        {
          "output_type": "display_data",
          "data": {
            "text/plain": [
              "<Figure size 400x300 with 1 Axes>"
            ],
            "image/png": "[encoded data removed]"
          },
          "metadata": {}
        }
      ]
    },
    {
      "cell_type": "markdown",
      "source": [
        "Постройте boxplot любого признака из своего датасета.\n",
        "\n",
        "1) boxplot числовой переменной;\n",
        "\n",
        "2) boxplot числовой переменной относительно категориальный переменной;\n",
        "\n",
        "*p.s. Если у вас только один числовой признак, преобразуйте категориальный при помощи LabelEncoder (https://scikit-learn.org/stable/modules/generated/sklearn.preprocessing.LabelEncoder.html)*"
      ],
      "metadata": {
        "id": "zPsEO4m1ZWDy"
      }
    },
    {
      "cell_type": "code",
      "source": [
        "sns.boxplot( y = 'Physicians per thousand', data = df)"
      ],
      "metadata": {
        "id": "ccJLh1r-Zdne",
        "colab": {
          "base_uri": "https://localhost:8080/",
          "height": 428
        },
        "outputId": "d7da35eb-5904-4995-b332-8c68ecd10a09"
      },
      "execution_count": null,
      "outputs": [
        {
          "output_type": "execute_result",
          "data": {
            "text/plain": [
              "<Axes: ylabel='Physicians per thousand'>"
            ]
          },
          "metadata": {},
          "execution_count": 23
        },
        {
          "output_type": "display_data",
          "data": {
            "text/plain": [
              "<Figure size 640x480 with 1 Axes>"
            ],
            "image/png": "[encoded data removed]"
          },
          "metadata": {}
        }
      ]
    },
    {
      "cell_type": "code",
      "source": [
        "sns.boxplot( x = 'Land Area(Km2)', y = 'Physicians per thousand', data = df)"
      ],
      "metadata": {
        "id": "9ZRV3jjlq9NN",
        "colab": {
          "base_uri": "https://localhost:8080/",
          "height": 466
        },
        "outputId": "4dfeb7d7-a8df-48fc-c64a-26b5c84cbf9d"
      },
      "execution_count": null,
      "outputs": [
        {
          "output_type": "execute_result",
          "data": {
            "text/plain": [
              "<Axes: xlabel='Land Area(Km2)', ylabel='Physicians per thousand'>"
            ]
          },
          "metadata": {},
          "execution_count": 24
        },
        {
          "output_type": "display_data",
          "data": {
            "text/plain": [
              "<Figure size 640x480 with 1 Axes>"
            ],
            "image/png": "[encoded data removed]"
          },
          "metadata": {}
        }
      ]
    },
    {
      "cell_type": "markdown",
      "source": [
        "Постройте диаграмму рассеивания для числовых признаков вашего датасета.\n",
        "\n",
        "*p.s. Если у вас только один числовой признак, преобразуйте категориальный при помощи LabelEncoder (https://scikit-learn.org/stable/modules/generated/sklearn.preprocessing.LabelEncoder.html)*"
      ],
      "metadata": {
        "id": "mj8cdITDZh53"
      }
    },
    {
      "cell_type": "code",
      "source": [
        "plt.figure(figsize=(4, 3))\n",
        "plt.scatter(df['Calling Code'], df['Fertility Rate'], color='blue')\n",
        "plt.title('Диаграмма ')\n",
        "plt.show()\n"
      ],
      "metadata": {
        "id": "V2-ZoNUcZ_2l",
        "colab": {
          "base_uri": "https://localhost:8080/",
          "height": 314
        },
        "outputId": "de8fa322-7823-4f75-cf68-c55c648dd65a"
      },
      "execution_count": null,
      "outputs": [
        {
          "output_type": "display_data",
          "data": {
            "text/plain": [
              "<Figure size 400x300 with 1 Axes>"
            ],
            "image/png": "[encoded data removed]"
          },
          "metadata": {}
        }
      ]
    },
    {
      "cell_type": "markdown",
      "source": [
        "Постройте матрицу корреляции для двух числовых признаков вашего датасета."
      ],
      "metadata": {
        "id": "S-jG4a5SaFXS"
      }
    },
    {
      "cell_type": "code",
      "source": [],
      "metadata": {
        "id": "u_lOnPtjnfbq"
      },
      "execution_count": null,
      "outputs": []
    },
    {
      "cell_type": "code",
      "source": [
        "sns.heatmap(df[['Fertility Rate','Calling Code']].corr(), cmap=\"YlGnBu\", annot=True)\n"
      ],
      "metadata": {
        "id": "p04Ifq_ZaOHb",
        "colab": {
          "base_uri": "https://localhost:8080/",
          "height": 452
        },
        "outputId": "30407822-5b2a-43a7-ae97-79944bcde107"
      },
      "execution_count": null,
      "outputs": [
        {
          "output_type": "execute_result",
          "data": {
            "text/plain": [
              "<Axes: >"
            ]
          },
          "metadata": {},
          "execution_count": 26
        },
        {
          "output_type": "display_data",
          "data": {
            "text/plain": [
              "<Figure size 640x480 with 2 Axes>"
            ],
            "image/png": "[encoded data removed]"
          },
          "metadata": {}
        }
      ]
    },
    {
      "cell_type": "markdown",
      "source": [
        "Какие выводы можно сделать на основе графиков и матрицы корреляции?"
      ],
      "metadata": {
        "id": "2MVHWXICaoJ4"
      }
    },
    {
      "cell_type": "markdown",
      "source": [
        "**Ответ здесь**"
      ],
      "metadata": {
        "id": "HFAFaiNzatLN"
      }
    },
    {
      "cell_type": "markdown",
      "source": [
        "##Задание для гениев*"
      ],
      "metadata": {
        "id": "K5HCSPTPbwfJ"
      }
    },
    {
      "cell_type": "markdown",
      "source": [
        "Реализовать следующие методы поиска выбросов:\n",
        "1. На основе среднего и отклонения\n",
        "2. Критерий Шовене\n",
        "3. С помощью квартилей\n",
        "4. Поиск выбросов по двум переменным\n",
        "\n",
        "[Посмотреть](http://course.omgtu.ru/wp-content/uploads/2021/04/3_%D0%92%D1%8B%D0%B1%D1%80%D0%BE%D1%81%D1%8B.pdf)\n",
        "\n",
        "P.S. в качестве возвразаемого значения методов может быть:\n",
        "1. очищенный датафрейм\n",
        "2. индексы выбросов ```df.series.index```"
      ],
      "metadata": {
        "id": "pil5bgt5b98A"
      }
    },
    {
      "cell_type": "code",
      "source": [
        "\"\"\"\n",
        "\n",
        "Ваш код здесь\n",
        "\n",
        "\"\"\""
      ],
      "metadata": {
        "id": "IXM6eoIvdCBs"
      },
      "execution_count": null,
      "outputs": []
    },
    {
      "cell_type": "markdown",
      "source": [
        "### Пример реализации одного метода"
      ],
      "metadata": {
        "id": "dRQRyxdgD_sk"
      }
    },
    {
      "cell_type": "code",
      "source": [
        "from statistics import median, mean\n",
        "\n",
        "class Outline:\n",
        "  def __init__(self, df):\n",
        "    self.df = df\n",
        "\n",
        "  def delete_outline_by_mean(self, column_name):\n",
        "    mean_data = mean(self.df[column_name])\n",
        "    maximum = mean_data * 2\n",
        "    result = []\n",
        "\n",
        "    for item in self.df[column_name]:\n",
        "      if abs(item - mean_data) < maximum:\n",
        "        result.append(item)\n",
        "\n",
        "    return result\n",
        "\n"
      ],
      "metadata": {
        "id": "lJEOQcx0vavH"
      },
      "execution_count": null,
      "outputs": []
    },
    {
      "cell_type": "code",
      "source": [
        "data = pd.DataFrame(\n",
        "    data = {\n",
        "        \"col1\": [1, 2, 3, 4, 5, 1000],\n",
        "        \"col2\": [1, 2, 3, 2, 1, 4]\n",
        "    }\n",
        ")\n",
        "\n",
        "so = Outline(data)\n",
        "so.delete_outline_by_mean(\"col1\")"
      ],
      "metadata": {
        "colab": {
          "base_uri": "https://localhost:8080/"
        },
        "id": "1EViTEon8Rkj",
        "outputId": "d1fa0b6f-a127-4d89-c2c8-9597251aaac6"
      },
      "execution_count": null,
      "outputs": [
        {
          "output_type": "execute_result",
          "data": {
            "text/plain": [
              "[1, 2, 3, 4, 5]"
            ]
          },
          "metadata": {},
          "execution_count": 39
        }
      ]
    }
  ]
}